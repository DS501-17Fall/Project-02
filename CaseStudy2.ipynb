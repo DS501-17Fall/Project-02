{
 "cells": [
  {
   "cell_type": "markdown",
   "metadata": {},
   "source": [
    "# Case Study 2 : Analyzing data from MovieLens\n",
    "\n",
    "** Due Date: Due Date: October 26, BEFORE the beginning of class at 6:00pm **\n",
    "\n",
    "**NOTE: There are always last minute issues submitting the case studies. DO NOT WAIT UNTIL THE LAST MINUTE!**\n",
    "\n",
    "*------------"
   ]
  },
  {
   "cell_type": "markdown",
   "metadata": {},
   "source": [
    "## The MovieLens data sets\n",
    "\n",
    "<img src=\"https://pbs.twimg.com/profile_images/378800000380161537/b6fa868dce43807d4e67462587d0b0d2_400x400.png\">\n",
    "\n",
    "http://grouplens.org/datasets/movielens/\n",
    "\n"
   ]
  },
  {
   "cell_type": "code",
   "execution_count": null,
   "metadata": {
    "collapsed": true
   },
   "outputs": [],
   "source": [
    "from IPython.lib.display import YouTubeVideo"
   ]
  },
  {
   "cell_type": "code",
   "execution_count": null,
   "metadata": {
    "collapsed": true
   },
   "outputs": [],
   "source": [
    "#YouTubeVideo('4tW9HY0Q460')"
   ]
  },
  {
   "cell_type": "markdown",
   "metadata": {},
   "source": [
    "**TEAM Members:** Please EDIT this cell and add the names of all the team members in your team\n",
    "\n",
    "+ Yan Wu\n",
    "+ Shiyang Xia\n",
    "+ Yuhao Zheng\n",
    "+ Zijun Xu\n",
    "+ Han Bao"
   ]
  },
  {
   "cell_type": "markdown",
   "metadata": {},
   "source": [
    "**Desired outcome of the case study.**\n",
    "* In this case study we will look at the MovieLens 1M Data Set.\n",
    "    * It contains data about users and how the rate movies.\n",
    "* The idea is to *analyze* the data set, make *conjectures*, support or refute those conjectures with *data*, and *tell a story* about the data!\n",
    "    \n",
    "**Required Readings:** \n",
    "* Chapter 2 (only the section on the MovieLens 1M Data Set), Chapter 5, Chapter 6,\n",
    "and Chapter 8 of the book [Python for Data Analysis](http://shop.oreilly.com/product/0636920023784.do)  (available from the WPI library as an e-book).\n",
    "* If you want your code to be really compact then you might want to also look into the pivot_table method of Panda's DataFrame, though there are many other ways to complete the case study!\n",
    "\n",
    "**Case study assumptions:**\n",
    "* You have access to a Python installation\n",
    "\n",
    "**Required Python libraries:**\n",
    "* Pandas (pandas.pydata.org)\n",
    "* Matplotlib (matplotlib.org)\n",
    "* If you need help installing them then you can refer to the Anaconda documentation of Chapter 1 of Python for Data Analysis book above \n",
    "\n",
    "** NOTE **\n",
    "* Please don't forget to save the notebook frequently when working in IPython Notebook, otherwise the changes you made can be lost.\n",
    "\n",
    "*----------------------"
   ]
  },
  {
   "cell_type": "markdown",
   "metadata": {},
   "source": [
    "# Problem 1 (20 points total): \n",
    "\n",
    "## (10 points) Importing the MovieLens data set and merging it into a single Pandas DataFrame"
   ]
  },
  {
   "cell_type": "markdown",
   "metadata": {},
   "source": [
    "* Download the 1 million ratings data set from http://grouplens.org/datasets/movielens/ (though if you are feeling adventerous you can download the 10 million ratings file instead)\n",
    "* Merge all of the data into a single Pandas DataFrame\n",
    "* Store the data into an HDF5 file.\n",
    "\n",
    "## (10 points) Report some basic details of the data you collected.  For example:\n",
    "\n",
    "*  How many movies have an average rating over 4.5 overall?\n",
    "*  How many movies have an average rating over 4.5 among men?  How about women?\n",
    "*  How many movies have an *median* rating over 4.5 among men over age 30?  How about women over age 30?\n",
    "*  What are the ten most popular movies?\n",
    "    * Choose what you consider to be a reasonable defintion of \"popular\".\n",
    "    * Be perpared to defend this choice.\n",
    "*  Make some conjectures about how easy various groups are to please? Support your answers with data!  \n",
    "    *  For example, one might conjecture that people between the ages of 1 and 10 are the easiest to please since they are all young children.  This conjecture may or may not be true, but how would you support or disprove either conclusion with with data?\n",
    "    *  Be sure to come up with your own conjectures and support them with data!\n"
   ]
  },
  {
   "cell_type": "code",
   "execution_count": null,
   "metadata": {
    "collapsed": true
   },
   "outputs": [],
   "source": [
    "import pandas as pd\n",
    "\n",
    "# -------------------------------\n",
    "# Your code goes here.\n",
    "# Add as many cells as you need\n",
    "# -------------------------------\n",
    "\n",
    "\"\"\"\n",
    "Merge all of the data into a single Pandas DataFrame\n",
    "Store the data into an HDF5 file.\n",
    "\"\"\"\n",
    "\n",
    "# Load data from 3 csv files\n",
    "column = ['MovieID', 'Title', 'Genres']\n",
    "movie = pd.read_csv('data/movies.dat', sep='::', header=None, names=column, engine='python', encoding='latin_1')\n",
    "column = ['UserID', 'MovieID', 'Rating', 'Timestamp']\n",
    "rate = pd.read_csv('data/ratings.dat', sep='::', header=None, names=column, engine='python')\n",
    "column = ['UserID', 'Gender', 'Age', 'Occupation', 'Zip-code']\n",
    "user = pd.read_csv('data/users.dat', sep='::', header=None, names=column, engine='python')\n",
    "\n",
    "# Merge into a single Pandas DataFrame\n",
    "data = pd.merge(movie, rate, on=['MovieID'])\n",
    "data = pd.merge(data, user, on=['UserID'])\n",
    "\n",
    "# Print size of merged DataFrame\n",
    "shape = data.shape\n",
    "print('Merged DataFrame has', shape[0], 'rows and', shape[1], 'columns.')\n",
    "\n",
    "# Store the data into an HDF5 file\n",
    "hdf5 = pd.HDFStore('data.h5')\n",
    "hdf5['data'] = data\n",
    "hdf5.close()"
   ]
  },
  {
   "cell_type": "code",
   "execution_count": null,
   "metadata": {
    "collapsed": true
   },
   "outputs": [],
   "source": [
    "\"\"\"\n",
    "How many movies have an average rating over 4.5 overall?\n",
    "\"\"\"\n",
    "import pandas as pd\n",
    "import numpy as np\n",
    "\n",
    "# Load data from HDF5 file\n",
    "data = pd.read_hdf('data.h5')\n",
    "\n",
    "# Group by, aggregate and select\n",
    "grouped_data = data.groupby('Title')\n",
    "aggregated_data = grouped_data['Rating'].aggregate(np.mean)\n",
    "result = aggregated_data.select(lambda i: aggregated_data[i] > 4.5)\n",
    "\n",
    "print(len(result), 'movies have an average rating over 4.5 overall:')\n",
    "print(result.sort_values(ascending=False))"
   ]
  },
  {
   "cell_type": "code",
   "execution_count": null,
   "metadata": {
    "collapsed": true
   },
   "outputs": [],
   "source": [
    "\"\"\"\n",
    "How many movies have an average rating over 4.5 among men? How about women?\n",
    "\"\"\"\n",
    "import pandas as pd\n",
    "import numpy as np\n",
    "\n",
    "# Load data from HDF5 file\n",
    "data = pd.read_hdf('data.h5')\n",
    "\n",
    "\n",
    "# Get movies which have an average rating over 4.5 by a single gender\n",
    "def average_rate_by_gender(gender):\n",
    "    single_gender_data = data[data.Gender == gender]\n",
    "    grouped_data = single_gender_data.groupby('Title')\n",
    "    aggregated_data = grouped_data['Rating'].aggregate(np.mean)\n",
    "    result = aggregated_data.select(lambda i: aggregated_data[i] > 4.5)\n",
    "    return result.sort_values(ascending=False)\n",
    "\n",
    "\n",
    "# Movies have an average rating over 4.5 among men.\n",
    "man_result = average_rate_by_gender('M')\n",
    "print(len(man_result), 'movies have an average rating over 4.5 among men:')\n",
    "print(man_result)\n",
    "\n",
    "print()\n",
    "\n",
    "# Movies have an average rating over 4.5 among women.\n",
    "woman_result = average_rate_by_gender('F')\n",
    "print(len(woman_result), 'movies have an average rating over 4.5 among women:')\n",
    "print(woman_result)"
   ]
  },
  {
   "cell_type": "code",
   "execution_count": null,
   "metadata": {
    "collapsed": true
   },
   "outputs": [],
   "source": [
    "\"\"\"\n",
    "How many movies have an median rating over 4.5 among men over age 30? How about women over age 30?\n",
    "\"\"\"\n",
    "import pandas as pd\n",
    "import numpy as np\n",
    "\n",
    "# Load data from HDF5 file\n",
    "data = pd.read_hdf('data.h5')\n",
    "\n",
    "# Get movies which have an median rating over 4.5 over age 30 by a single gender\n",
    "def median_rate_by_gender(gender):\n",
    "    single_gender_data = data[data.Gender == gender]\n",
    "    age_filtered_data = single_gender_data[single_gender_data.Age > 30]\n",
    "    grouped_data = age_filtered_data.groupby('Title')\n",
    "    aggregated_data = grouped_data['Rating'].aggregate(np.median)\n",
    "    result = aggregated_data.select(lambda i: aggregated_data[i] > 4.5)\n",
    "    return result.sort_values(ascending=False)\n",
    "\n",
    "# Movies have an median rating over 4.5 among men over age 30.\n",
    "man_result = median_rate_by_gender('M')\n",
    "print(len(man_result), 'movies have an median rating over 4.5 among men over age 30:')\n",
    "print(man_result)\n",
    "\n",
    "print()\n",
    "\n",
    "# Movies have an median rating over 4.5 among women over age 30.\n",
    "woman_result = median_rate_by_gender('F')\n",
    "print(len(woman_result), 'movies have an median rating over 4.5 among women over age 30:')\n",
    "print(woman_result)"
   ]
  },
  {
   "cell_type": "code",
   "execution_count": null,
   "metadata": {
    "collapsed": true
   },
   "outputs": [],
   "source": [
    "\"\"\"\n",
    "What are the ten most popular movies?\n",
    "- Choose what you consider to be a reasonable defintion of \"popular\".\n",
    "- Be perpared to defend this choice.\n",
    "\"\"\"\n",
    "# Here is our formular to calculate popularity: (year-1900)/100 * (the number of rating)\n",
    "# The score is mainly based on the number of rating, but deduct some point for old movies\n",
    "import pandas as pd\n",
    "import numpy as np\n",
    "\n",
    "# Calculate popularity score\n",
    "def get_score(row):\n",
    "    whole_title = row.name\n",
    "    year = int(whole_title.split('(')[-1].split(')')[0])\n",
    "    return (year - 1900) / 100 * row['Count']\n",
    "\n",
    "\n",
    "# Load data from HDF5 file\n",
    "data = pd.read_hdf('data.h5')\n",
    "\n",
    "grouped_data = data.groupby('Title')\n",
    "count = grouped_data.size()\n",
    "count.name = 'Count'\n",
    "average_rate = grouped_data['Rating'].aggregate(np.mean)\n",
    "data = pd.concat([count, average_rate], axis=1)\n",
    "result = data[data.Count > 2000].copy()\n",
    "result['Score'] = result.apply(lambda row: get_score(row), axis=1)\n",
    "result = result.sort_values('Score', ascending=False)\n",
    "print(result)"
   ]
  },
  {
   "cell_type": "code",
   "execution_count": null,
   "metadata": {
    "collapsed": true
   },
   "outputs": [],
   "source": [
    "\"\"\"\n",
    "Make some conjectures about how easy various groups are to please? Support your answers with data!\n",
    "- For example, one might conjecture that people between the ages of 1 and 10 are the easiest to please since they are all young children. This conjecture may or may not be true, but how would you support or disprove either conclusion with with data?\n",
    "- Be sure to come up with your own conjectures and support them with data!\n",
    "\"\"\""
   ]
  },
  {
   "cell_type": "markdown",
   "metadata": {},
   "source": [
    "## Conjecture 1: Unemployed people rate lowly"
   ]
  },
  {
   "cell_type": "code",
   "execution_count": 10,
   "metadata": {},
   "outputs": [
    {
     "data": {
      "image/png": "[encoded data removed]",
      "text/plain": [
       "<matplotlib.figure.Figure at 0x236213b3da0>"
      ]
     },
     "metadata": {},
     "output_type": "display_data"
    }
   ],
   "source": [
    "import pandas as pd\n",
    "import matplotlib.pyplot as plt\n",
    "import numpy as np\n",
    "\n",
    "# Load data from HDF5 file\n",
    "data = pd.read_hdf('data.h5')\n",
    "\n",
    "occupations = (\"other\", \"academic/educator\", \"artist\", \"clerical/admin\", \"college/grad student\", \"customer service\",\n",
    "               \"doctor/health care\", \"executive/managerial\", \"farmer\", \"homemaker\", \"K-12 student\", \"lawyer\",\n",
    "               \"programmer\", \"retired\", \"sales/marketing\", \"scientist\", \"self-employed\", \"technician/engineer\",\n",
    "               \"tradesman/craftsman\", \"unemployed\", \"writer\")\n",
    "\n",
    "means = data.groupby('Occupation')['Rating'].mean()\n",
    "ax = means.plot.barh()\n",
    "ax.set_xlim(3, 4.0)\n",
    "ax.set_xlabel('Rating Mean')\n",
    "ax.set_yticklabels(occupations)\n",
    "plt.show()"
   ]
  },
  {
   "cell_type": "markdown",
   "metadata": {},
   "source": [
    "### Conjecture 1 Result\n",
    "- It turns out that unemplyed people do rate lowly, and so do farmer.\n",
    "- The chart also shows that retired people rate highly."
   ]
  },
  {
   "cell_type": "markdown",
   "metadata": {},
   "source": [
    "## Conjecture 2: Little difference between man and woman in the same occupation"
   ]
  },
  {
   "cell_type": "code",
   "execution_count": 2,
   "metadata": {},
   "outputs": [
    {
     "data": {
      "image/png": "[encoded data removed]",
      "text/plain": [
       "<matplotlib.figure.Figure at 0x236279ed908>"
      ]
     },
     "metadata": {},
     "output_type": "display_data"
    }
   ],
   "source": [
    "import pandas as pd\n",
    "import matplotlib.pyplot as plt\n",
    "import numpy as np\n",
    "\n",
    "# Load data from HDF5 file\n",
    "data = pd.read_hdf('data.h5')\n",
    "\n",
    "men_means = list(data[data.Gender == 'M'].groupby('Occupation')['Rating'].mean())\n",
    "women_means = list(data[data.Gender == 'F'].groupby('Occupation')['Rating'].mean())\n",
    "\n",
    "fig, ax = plt.subplots()\n",
    "width = 0.35\n",
    "num = np.arange(21)\n",
    "occupations = (\"other\", \"academic/educator\", \"artist\", \"clerical/admin\", \"college/grad student\", \"customer service\",\n",
    "               \"doctor/health care\", \"executive/managerial\", \"farmer\", \"homemaker\", \"K-12 student\", \"lawyer\",\n",
    "               \"programmer\", \"retired\", \"sales/marketing\", \"scientist\", \"self-employed\", \"technician/engineer\",\n",
    "               \"tradesman/craftsman\", \"unemployed\", \"writer\")\n",
    "rects1 = ax.barh(num, men_means, width, color='b', alpha=0.7, label='Men')\n",
    "rects2 = ax.barh(num + width, women_means, width, color='r', alpha=0.7, label='Women')\n",
    "ax.legend((rects1[0], rects2[0]), ('Men', 'Women'), shadow=True)\n",
    "ax.set_xlim(3, 4.3)\n",
    "ax.set_xlabel('Rating Mean')\n",
    "plt.yticks(num + width / 2, occupations)\n",
    "plt.show()"
   ]
  },
  {
   "cell_type": "markdown",
   "metadata": {},
   "source": [
    "### Conjecture 2 Result\n",
    "- It turns out that there are huge differences in some occupations like tradesman/craftsman or lawyer.\n",
    "- Also there are little differences in some other occupations like college students and artists."
   ]
  },
  {
   "cell_type": "markdown",
   "metadata": {},
   "source": [
    "## Conjecture 3: Young people rate highly"
   ]
  },
  {
   "cell_type": "code",
   "execution_count": 11,
   "metadata": {},
   "outputs": [
    {
     "data": {
      "image/png": "[encoded data removed]",
      "text/plain": [
       "<matplotlib.figure.Figure at 0x23621575400>"
      ]
     },
     "metadata": {},
     "output_type": "display_data"
    }
   ],
   "source": [
    "import pandas as pd\n",
    "import matplotlib.pyplot as plt\n",
    "\n",
    "# Load data from HDF5 file\n",
    "data = pd.read_hdf('data.h5')\n",
    "\n",
    "age_group = ('0-9', '10-19', '20-29', '30-39', '40-49', '50+')\n",
    "\n",
    "\n",
    "def layer_age(row):\n",
    "    age = int(row['Age'])\n",
    "    age = age if age < 60 else 50\n",
    "    return age_group[age // 10]\n",
    "\n",
    "\n",
    "data['Age-group'] = data.apply(lambda row: layer_age(row), axis=1)\n",
    "means = data.groupby('Age-group')['Rating'].mean()\n",
    "ax = means.plot.bar()\n",
    "ax.set_ylim(3, 4.0)\n",
    "ax.set_xlabel('Rating Mean')\n",
    "ax.set_xticklabels(age_group, rotation=0)\n",
    "plt.show()"
   ]
  },
  {
   "cell_type": "markdown",
   "metadata": {},
   "source": [
    "### Conjecture 3 Result\n",
    "- Old people actually rate highly.\n",
    "- Teenagers rate the most lowly compared to other age groups."
   ]
  },
  {
   "cell_type": "markdown",
   "metadata": {},
   "source": [
    "## Conjecture 4: Little difference between man and woman in the same age group"
   ]
  },
  {
   "cell_type": "code",
   "execution_count": 15,
   "metadata": {},
   "outputs": [
    {
     "data": {
      "image/png": "[encoded data removed]",
      "text/plain": [
       "<matplotlib.figure.Figure at 0x2362129a5f8>"
      ]
     },
     "metadata": {},
     "output_type": "display_data"
    }
   ],
   "source": [
    "import pandas as pd\n",
    "import matplotlib.pyplot as plt\n",
    "import numpy as np\n",
    "\n",
    "# Load data from HDF5 file\n",
    "data = pd.read_hdf('data.h5')\n",
    "\n",
    "age_group = ('0-9', '10-19', '20-29', '30-39', '40-49', '50+')\n",
    "\n",
    "\n",
    "def layer_age(row):\n",
    "    age = int(row['Age'])\n",
    "    age = age if age < 60 else 50\n",
    "    return age_group[age // 10]\n",
    "\n",
    "\n",
    "data['Age-group'] = data.apply(lambda row: layer_age(row), axis=1)\n",
    "men_means = list(data[data.Gender == 'M'].groupby('Age-group')['Rating'].mean())\n",
    "women_means = list(data[data.Gender == 'F'].groupby('Age-group')['Rating'].mean())\n",
    "\n",
    "fig, ax = plt.subplots()\n",
    "width = 0.35\n",
    "num = np.arange(6)\n",
    "\n",
    "rects1 = ax.bar(num, men_means, width, color='b', alpha=0.7, label='Men')\n",
    "rects2 = ax.bar(num + width, women_means, width, color='r', alpha=0.7, label='Women')\n",
    "ax.legend((rects1[0], rects2[0]), ('Men', 'Women'), shadow=True)\n",
    "ax.set_ylim(3, 4.3)\n",
    "ax.set_ylabel('Rating Mean')\n",
    "plt.xticks(num + width / 2, age_group)\n",
    "plt.show()"
   ]
  },
  {
   "cell_type": "markdown",
   "metadata": {},
   "source": [
    "### Conjecture 4 Result\n",
    "- Huge difference occurs in old people.\n",
    "- Mid-aged people have the least differences."
   ]
  },
  {
   "cell_type": "markdown",
   "metadata": {},
   "source": [
    "# Problem 2 (20 points total): Expand our investigation to histograms\n",
    "\n",
    "**An obvious issue with any inferences drawn from Problem 1 is that we did not consider how many times a movie was rated.** \n",
    "* (2 points) Plot a histogram of the ratings of all movies.\n",
    "* (2 points) Plot a histogram of the *number* of ratings each movie recieved.\n",
    "* (2 points) Plot a histogram of the *average rating* for each movie.\n",
    "* (6 points) Plot a histogram of the *average rating* for movies which are rated more than 100 times.\n",
    "    * What do you observe about the tails of the histogram where you use all the movies versus the one where you only use movies rated more than 100 times?\n",
    "    * Which highly rated movies would you trust are actually good?  Those rated more than 100 times or those rated less than 100 times?\n",
    "* (8 points) Make some conjectures about the distribution of ratings? Support your answers with data!  \n",
    "    *  For example, what age range do you think has more extreme ratings?  Do you think children are more or less likely to rate a movie 1 or 5?\n",
    "    *  Be sure to come up with your own conjectures and support them with data!"
   ]
  },
  {
   "cell_type": "code",
   "execution_count": null,
   "metadata": {
    "collapsed": true
   },
   "outputs": [],
   "source": [
    "#-------------------------------\n",
    "# Your code goes here.\n",
    "# Add as many cells as you need\n",
    "#-------------------------------"
   ]
  },
  {
   "cell_type": "markdown",
   "metadata": {},
   "source": [
    "*------------------------\n",
    "\n",
    "# Problem 3: (20 points total)\n",
    "## Correlation:  Men versus women\n",
    "\n",
    "Let look more closely at the relationship between the pieces of data we have."
   ]
  },
  {
   "cell_type": "markdown",
   "metadata": {},
   "source": [
    "* (2 points) Make a scatter plot of men versus women and their mean rating for every movie.\n",
    "* (2 points) Make a scatter plot of men versus women and their mean rating for movies rated more than 200 times.\n",
    "* (6 points) Compute the *correlation coefficent* between the ratings of men and women.\n",
    "    * What do you observe?\n",
    "    * Are the ratings similiar or not? Support your answer with data!\n",
    "* (10 points) Conjecture under what circumstances the rating given by one gender can be used to predict the rating given by the other gender.\n",
    "    * For example, are men and women more similar when they are younger or older?\n",
    "    * Be sure to come up with your own conjectures and support them with data!"
   ]
  },
  {
   "cell_type": "code",
   "execution_count": null,
   "metadata": {
    "collapsed": true
   },
   "outputs": [],
   "source": [
    "#-------------------------------\n",
    "# Your code goes here.\n",
    "# Add as many cells as you need\n",
    "#-------------------------------"
   ]
  },
  {
   "cell_type": "markdown",
   "metadata": {},
   "source": [
    "*------------------------\n",
    "\n",
    "# Problem 4: (20 points total)\n",
    "## Open Ended Question:  Business Intelligence"
   ]
  },
  {
   "cell_type": "markdown",
   "metadata": {},
   "source": [
    "* Do any of your conjectures in Problems 1, 2, and 3 provide insights that a movie company might be interested in?\n",
    "* Propose a business question that you think this data can answer.\n",
    "* Suppose you are a Data Sciencetist at a movie company.  **Convince your boss that your conjecture is correct!**"
   ]
  },
  {
   "cell_type": "markdown",
   "metadata": {},
   "source": [
    "# Report: communicate the results (20 points)\n",
    "\n",
    "(1) (5 points) What data you collected?\n",
    "\n",
    "(2) (5 points) Why this topic is interesting or important to you? (Motivations)\n",
    "\n",
    "(3) (5 points) How did you analyse the data?\n",
    "\n",
    "(4) (5 points) What did you find in the data?\n",
    "(please include figures or tables in the report, but no source code)"
   ]
  },
  {
   "cell_type": "markdown",
   "metadata": {},
   "source": [
    "# Slides (for 10 minutes of presentation) (20 points)\n",
    "\n",
    "\n",
    "1. (5 points) Motivation about the data collection, why the topic is interesting to you. \n",
    "\n",
    "2. (10 points) Communicating Results (figure/table)\n",
    "\n",
    "3. (5 points) Story telling (How all the parts (data, analysis, result) fit together as a story?)"
   ]
  },
  {
   "cell_type": "markdown",
   "metadata": {},
   "source": [
    "*-----------------\n",
    "# Done\n",
    "\n",
    "All set! \n",
    "\n",
    "** What do you need to submit?**\n",
    "\n",
    "* **Notebook File**: Save this IPython notebook, and find the notebook file in your folder (for example, \"filename.ipynb\"). This is the file you need to submit. Please make sure all the plotted tables and figures are in the notebook. If you used \"ipython notebook --pylab=inline\" to open the notebook, all the figures and tables should have shown up in the notebook.\n",
    "\n",
    "\n",
    "* **PPT Slides**: please prepare PPT slides (for 10 minutes' talk) to present about the case study . We will ask two teams which are randomly selected to present their case studies in class for this case study. \n",
    "\n",
    "* ** Report**: please prepare a report (less than 10 pages) to report what you found in the data.\n",
    "    * What is the relationship between this topic and Business Intelligence?\n",
    "    * How did you analyse the data?\n",
    "    * What did you find in the data? \n",
    "    * What conjectures did you make and how did you support or disprove them using data?\n",
    "    * Did you find anything suprising in the data?\n",
    "    * What business decision do you think this data could help answer?  Why?\n",
    "\n",
    "     (please include figures or tables in the report, **but no source code**)\n",
    "\n",
    "*----------------------\n",
    "Please compress all the files in a zipped file.\n",
    "\n",
    "\n",
    "** How to submit: **\n",
    "\n",
    "        Please submit through email to Prof. Paffenroth (rcpaffenroth@wpi.edu) *and* the TA Yingnan Liu (yliu18@wpi.edu).\n",
    "\n",
    "#### We auto-process the submissions so make sure your subject line is *exactly*:\n",
    "\n",
    "### DS501 Case Study 2 Team ??\n",
    "\n",
    "#### where ?? is your team number.\n",
    "        \n",
    "** Note: Each team just needs to submits one submission **"
   ]
  },
  {
   "cell_type": "code",
   "execution_count": null,
   "metadata": {
    "collapsed": true
   },
   "outputs": [],
   "source": []
  }
 ],
 "metadata": {
  "anaconda-cloud": {},
  "kernelspec": {
   "display_name": "Python 3",
   "language": "python",
   "name": "python3"
  },
  "language_info": {
   "codemirror_mode": {
    "name": "ipython",
    "version": 3
   },
   "file_extension": ".py",
   "mimetype": "text/x-python",
   "name": "python",
   "nbconvert_exporter": "python",
   "pygments_lexer": "ipython3",
   "version": "3.6.1"
  }
 },
 "nbformat": 4,
 "nbformat_minor": 1
}
